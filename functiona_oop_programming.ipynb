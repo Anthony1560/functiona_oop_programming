{
 "cells": [
  {
   "cell_type": "code",
   "execution_count": 25,
   "id": "2b8b8f88-f973-43c6-84f0-f00b3df7f64b",
   "metadata": {},
   "outputs": [],
   "source": [
    "class Solution:\n",
    "    # Function to sort an array of 0s, 1s, and 2s\n",
    "    def sort012(self, arr):\n",
    "        low, mid, high = 0, 0, len(arr) - 1\n",
    "        \n",
    "        #Loops through array\n",
    "        while mid <= high:\n",
    "            if arr[mid] == 0:\n",
    "                #Move 0s to the front\n",
    "                arr[low], arr[mid] = arr[mid], arr[low] \n",
    "                low += 1\n",
    "                mid += 1\n",
    "            elif arr[mid] == 1: \n",
    "                #Leave 1s in the middle\n",
    "                mid += 1\n",
    "            else:\n",
    "                #Move 2s to the back\n",
    "                arr[mid], arr[high] = arr[high], arr[mid]\n",
    "                high -=1\n"
   ]
  },
  {
   "cell_type": "code",
   "execution_count": 31,
   "id": "a38914ff-73c6-4c62-8a00-ad166d2f3d8b",
   "metadata": {},
   "outputs": [],
   "source": [
    "class solution: \n",
    "    #Function to perform binary search on a sorted array\n",
    "    def binarysearch(self, arr, k): \n",
    "        #Initialize the start and end pointers\n",
    "        start=0\n",
    "        end = len(arr)-1\n",
    "\n",
    "        #loop as long as the search space is valid \n",
    "        while start<=end:\n",
    "            #Find the middle index\n",
    "            mid=(start+end)//2\n",
    "            #If the middle element is equal to the target, return its index\n",
    "            if arr[mid] == k:\n",
    "                return mid\n",
    "            #If the middle element is greater than the target, discard the right half\n",
    "            elif arr[mid] > k: \n",
    "                end = mid-1\n",
    "            #If the middle element is less than the target, discard the left half\n",
    "            else:\n",
    "                start=mid+1\n",
    "            #if the loop ends and the target isn't found\n",
    "        return -1;"
   ]
  },
  {
   "cell_type": "code",
   "execution_count": null,
   "id": "eeb6c54d-0292-4e01-9a14-69aba9d222e1",
   "metadata": {},
   "outputs": [],
   "source": []
  }
 ],
 "metadata": {
  "kernelspec": {
   "display_name": "Python 3 (ipykernel)",
   "language": "python",
   "name": "python3"
  },
  "language_info": {
   "codemirror_mode": {
    "name": "ipython",
    "version": 3
   },
   "file_extension": ".py",
   "mimetype": "text/x-python",
   "name": "python",
   "nbconvert_exporter": "python",
   "pygments_lexer": "ipython3",
   "version": "3.12.4"
  }
 },
 "nbformat": 4,
 "nbformat_minor": 5
}
